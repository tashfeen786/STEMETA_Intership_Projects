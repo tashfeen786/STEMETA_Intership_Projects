{
 "cells": [
  {
   "cell_type": "code",
   "execution_count": 1,
   "id": "55925d26",
   "metadata": {},
   "outputs": [],
   "source": [
    "import pandas as pd\n",
    "import numpy as np\n",
    "import matplotlib.pyplot as plt\n",
    "import seaborn as sns"
   ]
  },
  {
   "cell_type": "code",
   "execution_count": 3,
   "id": "898fe93a",
   "metadata": {},
   "outputs": [
    {
     "name": "stdout",
     "output_type": "stream",
     "text": [
      "   customerID  gender  SeniorCitizen Partner Dependents  tenure PhoneService  \\\n",
      "0  7590-VHVEG  Female              0     Yes         No       1           No   \n",
      "1  5575-GNVDE    Male              0      No         No      34          Yes   \n",
      "2  3668-QPYBK    Male              0      No         No       2          Yes   \n",
      "3  7795-CFOCW    Male              0      No         No      45           No   \n",
      "4  9237-HQITU  Female              0      No         No       2          Yes   \n",
      "\n",
      "      MultipleLines InternetService OnlineSecurity  ... DeviceProtection  \\\n",
      "0  No phone service             DSL             No  ...               No   \n",
      "1                No             DSL            Yes  ...              Yes   \n",
      "2                No             DSL            Yes  ...               No   \n",
      "3  No phone service             DSL            Yes  ...              Yes   \n",
      "4                No     Fiber optic             No  ...               No   \n",
      "\n",
      "  TechSupport StreamingTV StreamingMovies        Contract PaperlessBilling  \\\n",
      "0          No          No              No  Month-to-month              Yes   \n",
      "1          No          No              No        One year               No   \n",
      "2          No          No              No  Month-to-month              Yes   \n",
      "3         Yes          No              No        One year               No   \n",
      "4          No          No              No  Month-to-month              Yes   \n",
      "\n",
      "               PaymentMethod MonthlyCharges  TotalCharges Churn  \n",
      "0           Electronic check          29.85         29.85    No  \n",
      "1               Mailed check          56.95        1889.5    No  \n",
      "2               Mailed check          53.85        108.15   Yes  \n",
      "3  Bank transfer (automatic)          42.30       1840.75    No  \n",
      "4           Electronic check          70.70        151.65   Yes  \n",
      "\n",
      "[5 rows x 21 columns]\n"
     ]
    }
   ],
   "source": [
    "data = 'F:\\\\STEMETA_Intership_Projects\\\\Telco_Customer_Churn\\\\Telco-Customer-Churn.csv'\n",
    "df = pd.read_csv(data)\n",
    "print(df.head())"
   ]
  },
  {
   "cell_type": "code",
   "execution_count": 4,
   "id": "09416a6d",
   "metadata": {},
   "outputs": [
    {
     "name": "stdout",
     "output_type": "stream",
     "text": [
      "customerID          0\n",
      "gender              0\n",
      "SeniorCitizen       0\n",
      "Partner             0\n",
      "Dependents          0\n",
      "tenure              0\n",
      "PhoneService        0\n",
      "MultipleLines       0\n",
      "InternetService     0\n",
      "OnlineSecurity      0\n",
      "OnlineBackup        0\n",
      "DeviceProtection    0\n",
      "TechSupport         0\n",
      "StreamingTV         0\n",
      "StreamingMovies     0\n",
      "Contract            0\n",
      "PaperlessBilling    0\n",
      "PaymentMethod       0\n",
      "MonthlyCharges      0\n",
      "TotalCharges        0\n",
      "Churn               0\n",
      "dtype: int64\n"
     ]
    }
   ],
   "source": [
    "# check null value \n",
    "print(df.isnull().sum())"
   ]
  },
  {
   "cell_type": "code",
   "execution_count": 5,
   "id": "21d3d9c4",
   "metadata": {},
   "outputs": [
    {
     "name": "stdout",
     "output_type": "stream",
     "text": [
      "customerID           object\n",
      "gender               object\n",
      "SeniorCitizen         int64\n",
      "Partner              object\n",
      "Dependents           object\n",
      "tenure                int64\n",
      "PhoneService         object\n",
      "MultipleLines        object\n",
      "InternetService      object\n",
      "OnlineSecurity       object\n",
      "OnlineBackup         object\n",
      "DeviceProtection     object\n",
      "TechSupport          object\n",
      "StreamingTV          object\n",
      "StreamingMovies      object\n",
      "Contract             object\n",
      "PaperlessBilling     object\n",
      "PaymentMethod        object\n",
      "MonthlyCharges      float64\n",
      "TotalCharges         object\n",
      "Churn                object\n",
      "dtype: object\n"
     ]
    }
   ],
   "source": [
    "# Check data types\n",
    "print(df.dtypes)"
   ]
  },
  {
   "cell_type": "code",
   "execution_count": 6,
   "id": "636e3366",
   "metadata": {},
   "outputs": [
    {
     "name": "stdout",
     "output_type": "stream",
     "text": [
      "📊 Total Columns: 21\n",
      "🔢 Numeric Columns: 3 → ['SeniorCitizen', 'tenure', 'MonthlyCharges']\n",
      "🔤 Categorical Columns: 18 → ['customerID', 'gender', 'Partner', 'Dependents', 'PhoneService', 'MultipleLines', 'InternetService', 'OnlineSecurity', 'OnlineBackup', 'DeviceProtection', 'TechSupport', 'StreamingTV', 'StreamingMovies', 'Contract', 'PaperlessBilling', 'PaymentMethod', 'TotalCharges', 'Churn']\n"
     ]
    }
   ],
   "source": [
    "# Count numeric columns\n",
    "numeric_cols = df.select_dtypes(include=['int64', 'float64']).columns\n",
    "categorical_cols = df.select_dtypes(include=['object']).columns\n",
    "\n",
    "print(f\"📊 Total Columns: {df.shape[1]}\")\n",
    "print(f\"🔢 Numeric Columns: {len(numeric_cols)} → {list(numeric_cols)}\")\n",
    "print(f\"🔤 Categorical Columns: {len(categorical_cols)} → {list(categorical_cols)}\")\n"
   ]
  },
  {
   "cell_type": "code",
   "execution_count": 9,
   "id": "b5251b97",
   "metadata": {},
   "outputs": [
    {
     "name": "stdout",
     "output_type": "stream",
     "text": [
      "✅ Preprocessed Dataset Shape: (7032, 31)\n",
      "\n",
      "📋 Column Data Types:\n",
      " gender                                     int64\n",
      "SeniorCitizen                              int64\n",
      "Partner                                    int64\n",
      "Dependents                                 int64\n",
      "tenure                                     int64\n",
      "PhoneService                               int64\n",
      "PaperlessBilling                           int64\n",
      "MonthlyCharges                           float64\n",
      "TotalCharges                             float64\n",
      "Churn                                      int64\n",
      "StreamingTV_No internet service            int32\n",
      "StreamingTV_Yes                            int32\n",
      "Contract_One year                          int32\n",
      "Contract_Two year                          int32\n",
      "OnlineBackup_No internet service           int32\n",
      "OnlineBackup_Yes                           int32\n",
      "DeviceProtection_No internet service       int32\n",
      "DeviceProtection_Yes                       int32\n",
      "InternetService_Fiber optic                int32\n",
      "InternetService_No                         int32\n",
      "StreamingMovies_No internet service        int32\n",
      "StreamingMovies_Yes                        int32\n",
      "OnlineSecurity_No internet service         int32\n",
      "OnlineSecurity_Yes                         int32\n",
      "MultipleLines_No phone service             int32\n",
      "MultipleLines_Yes                          int32\n",
      "TechSupport_No internet service            int32\n",
      "TechSupport_Yes                            int32\n",
      "PaymentMethod_Credit card (automatic)      int32\n",
      "PaymentMethod_Electronic check             int32\n",
      "PaymentMethod_Mailed check                 int32\n",
      "dtype: object\n"
     ]
    }
   ],
   "source": [
    "from sklearn.preprocessing import LabelEncoder # Label Encoding for binary categorical variables\n",
    "# Drop 'customerID' (not useful)\n",
    "#df.drop('customerID', axis=1, inplace=True)\n",
    "\n",
    "# Convert 'TotalCharges' to numeric\n",
    "df['TotalCharges'] = pd.to_numeric(df['TotalCharges'], errors='coerce')\n",
    "\n",
    "#  Handle missing values\n",
    "df.dropna(inplace=True)  # drop rows with missing TotalCharges (you can also impute)\n",
    "\n",
    "# Encode categorical columns\n",
    "# Identify categorical columns\n",
    "cat_cols = df.select_dtypes(include='object').columns\n",
    "\n",
    "# Apply Label Encoding to binary categorical columns\n",
    "le = LabelEncoder()\n",
    "binary_cols = ['gender', 'Partner', 'Dependents', 'PhoneService', 'PaperlessBilling', 'Churn']\n",
    "\n",
    "for col in binary_cols:\n",
    "    df[col] = le.fit_transform(df[col])\n",
    "\n",
    "# Convert boolean columns to int\n",
    "# Assuming binary columns are already encoded as 0 and 1\n",
    "df = df.astype({col: 'int' for col in df.select_dtypes('bool').columns})\n",
    "\n",
    "# Apply One-Hot Encoding to multi-category columns\n",
    "multi_cat_cols = list(set(cat_cols) - set(binary_cols))\n",
    "df = pd.get_dummies(df, columns=multi_cat_cols, drop_first=True)\n",
    "\n",
    "# Check final dataset shape and types\n",
    "print(\"✅ Preprocessed Dataset Shape:\", df.shape)\n",
    "print(\"\\n📋 Column Data Types:\\n\", df.dtypes)"
   ]
  },
  {
   "cell_type": "code",
   "execution_count": 10,
   "id": "7d755808",
   "metadata": {},
   "outputs": [
    {
     "name": "stdout",
     "output_type": "stream",
     "text": [
      "🆕 New columns added after encoding:\n",
      "['gender', 'SeniorCitizen', 'Partner', 'Dependents', 'tenure', 'PhoneService', 'PaperlessBilling', 'MonthlyCharges', 'TotalCharges', 'Churn', 'StreamingTV_No internet service', 'StreamingTV_Yes', 'Contract_One year', 'Contract_Two year', 'OnlineBackup_No internet service', 'OnlineBackup_Yes', 'DeviceProtection_No internet service', 'DeviceProtection_Yes', 'InternetService_Fiber optic', 'InternetService_No', 'StreamingMovies_No internet service', 'StreamingMovies_Yes', 'OnlineSecurity_No internet service', 'OnlineSecurity_Yes', 'MultipleLines_No phone service', 'MultipleLines_Yes', 'TechSupport_No internet service', 'TechSupport_Yes', 'PaymentMethod_Credit card (automatic)', 'PaymentMethod_Electronic check', 'PaymentMethod_Mailed check']\n"
     ]
    }
   ],
   "source": [
    "processed_cols = df.columns.tolist()\n",
    "\n",
    "new_columns = [col for col in processed_cols]\n",
    "print(\"🆕 New columns added after encoding:\")\n",
    "print(new_columns)"
   ]
  },
  {
   "cell_type": "code",
   "execution_count": 11,
   "id": "48e0102a",
   "metadata": {},
   "outputs": [],
   "source": [
    "# Separate features and target\n",
    "X = df.drop('Churn', axis=1)\n",
    "y = df['Churn']"
   ]
  },
  {
   "cell_type": "code",
   "execution_count": 16,
   "id": "5a875dc9",
   "metadata": {},
   "outputs": [],
   "source": [
    "from sklearn.preprocessing import StandardScaler\n",
    "from sklearn.metrics import accuracy_score\n",
    "from sklearn.model_selection import train_test_split\n",
    "from sklearn.linear_model import LogisticRegression\n",
    "from sklearn.tree import DecisionTreeClassifier\n",
    "from sklearn.ensemble import RandomForestClassifier, GradientBoostingClassifier\n",
    "from sklearn.neighbors import KNeighborsClassifier\n",
    "from sklearn.svm import SVC\n",
    "from xgboost import XGBClassifier\n",
    "\n",
    "# 🔽 XGBoost model\n",
    "from xgboost import XGBClassifier\n",
    "# X, y already defined earlier\n",
    "X_train, X_test, y_train, y_test = train_test_split(X, y, test_size=0.2, random_state=42)\n"
   ]
  },
  {
   "cell_type": "code",
   "execution_count": 17,
   "id": "1ebd5c26",
   "metadata": {},
   "outputs": [
    {
     "name": "stdout",
     "output_type": "stream",
     "text": [
      "Logistic Regression Accuracy: 0.7875\n"
     ]
    }
   ],
   "source": [
    "\n",
    "# Scale only where needed\n",
    "scaler = StandardScaler()\n",
    "X_train_scaled = scaler.fit_transform(X_train)\n",
    "X_test_scaled = scaler.transform(X_test)\n",
    "\n",
    "# 1. Logistic Regression (needs scaling)\n",
    "log_reg = LogisticRegression(max_iter=1000)\n",
    "log_reg.fit(X_train_scaled, y_train)\n",
    "log_reg_preds = log_reg.predict(X_test_scaled)\n",
    "log_reg_acc = accuracy_score(y_test, log_reg_preds)\n",
    "print(f\"Logistic Regression Accuracy: {log_reg_acc:.4f}\")"
   ]
  },
  {
   "cell_type": "code",
   "execution_count": 18,
   "id": "219b1b14",
   "metadata": {},
   "outputs": [
    {
     "name": "stdout",
     "output_type": "stream",
     "text": [
      "Decision Tree Accuracy: 0.7186\n"
     ]
    }
   ],
   "source": [
    "\n",
    "# 2. Decision Tree (no scaling needed)\n",
    "dt = DecisionTreeClassifier()\n",
    "dt.fit(X_train, y_train)\n",
    "dt_preds = dt.predict(X_test)\n",
    "dt_acc = accuracy_score(y_test, dt_preds)\n",
    "print(f\"Decision Tree Accuracy: {dt_acc:.4f}\")"
   ]
  },
  {
   "cell_type": "code",
   "execution_count": 19,
   "id": "3f64e7df",
   "metadata": {},
   "outputs": [
    {
     "name": "stdout",
     "output_type": "stream",
     "text": [
      "Random Forest Accuracy: 0.7839\n"
     ]
    }
   ],
   "source": [
    "\n",
    "# 3. Random Forest (no scaling needed)\n",
    "rf = RandomForestClassifier()\n",
    "rf.fit(X_train, y_train)\n",
    "rf_preds = rf.predict(X_test)\n",
    "rf_acc = accuracy_score(y_test, rf_preds)\n",
    "print(f\"Random Forest Accuracy: {rf_acc:.4f}\")"
   ]
  },
  {
   "cell_type": "code",
   "execution_count": 21,
   "id": "b9712cff",
   "metadata": {},
   "outputs": [
    {
     "name": "stdout",
     "output_type": "stream",
     "text": [
      "KNN Accuracy: 0.7520\n"
     ]
    }
   ],
   "source": [
    "\n",
    "# 5. K-Nearest Neighbors (needs scaling)\n",
    "knn = KNeighborsClassifier()\n",
    "knn.fit(X_train_scaled, y_train)\n",
    "knn_preds = knn.predict(X_test_scaled)\n",
    "knn_acc = accuracy_score(y_test, knn_preds)\n",
    "print(f\"KNN Accuracy: {knn_acc:.4f}\")"
   ]
  },
  {
   "cell_type": "code",
   "execution_count": 22,
   "id": "38757fb2",
   "metadata": {},
   "outputs": [
    {
     "name": "stdout",
     "output_type": "stream",
     "text": [
      "SVM Accuracy: 0.7811\n"
     ]
    }
   ],
   "source": [
    "# 6. Support Vector Machine (needs scaling)\n",
    "svm = SVC()\n",
    "svm.fit(X_train_scaled, y_train)\n",
    "svm_preds = svm.predict(X_test_scaled)\n",
    "svm_acc = accuracy_score(y_test, svm_preds)\n",
    "print(f\"SVM Accuracy: {svm_acc:.4f}\")"
   ]
  },
  {
   "cell_type": "code",
   "execution_count": 23,
   "id": "1d8ffce8",
   "metadata": {},
   "outputs": [
    {
     "name": "stdout",
     "output_type": "stream",
     "text": [
      "Gradient Boosting Accuracy: 0.7896\n"
     ]
    }
   ],
   "source": [
    "# 7. Gradient Boosting (no scaling needed)\n",
    "gb = GradientBoostingClassifier()\n",
    "gb.fit(X_train, y_train)\n",
    "gb_preds = gb.predict(X_test)\n",
    "gb_acc = accuracy_score(y_test, gb_preds)\n",
    "print(f\"Gradient Boosting Accuracy: {gb_acc:.4f}\")"
   ]
  },
  {
   "cell_type": "code",
   "execution_count": 26,
   "id": "6d97379f",
   "metadata": {},
   "outputs": [
    {
     "name": "stdout",
     "output_type": "stream",
     "text": [
      "XGBoost Accuracy: 0.7740\n"
     ]
    }
   ],
   "source": [
    "xgb = XGBClassifier(eval_metric='logloss')  # clean and compatible with latest version\n",
    "xgb.fit(X_train, y_train)\n",
    "xgb_preds = xgb.predict(X_test)\n",
    "xgb_acc = accuracy_score(y_test, xgb_preds)\n",
    "print(f\"XGBoost Accuracy: {xgb_acc:.4f}\")\n"
   ]
  }
 ],
 "metadata": {
  "kernelspec": {
   "display_name": "tfod310",
   "language": "python",
   "name": "python3"
  },
  "language_info": {
   "codemirror_mode": {
    "name": "ipython",
    "version": 3
   },
   "file_extension": ".py",
   "mimetype": "text/x-python",
   "name": "python",
   "nbconvert_exporter": "python",
   "pygments_lexer": "ipython3",
   "version": "3.10.16"
  }
 },
 "nbformat": 4,
 "nbformat_minor": 5
}
