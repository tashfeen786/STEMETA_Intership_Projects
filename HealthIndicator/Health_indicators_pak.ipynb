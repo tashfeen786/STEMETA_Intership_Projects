{
 "cells": [
  {
   "cell_type": "code",
   "execution_count": null,
   "id": "8ad4ca07",
   "metadata": {},
   "outputs": [],
   "source": [
    "Project Title:\n",
    "Infant Mortality Rate Analysis in Pakistan (1970–2020)\n",
    "                                            \n",
    "📁 Dataset Source:\n",
    "The dataset contains various health and demographic indicators, including Infant Mortality Rate in Pakistan from 1970 to 2020.\n",
    "It was obtained from a global or national health database (likely WHO or UNICEF), provided in CSV format.\n",
    "\n",
    "📊 Initial Columns Overview:\n",
    "Column Name\t        Description\n",
    "Year\t            The year in which the data was recorded\n",
    "Sex\t                Gender category: 'Male', 'Female', 'Both sexes', etc.\n",
    "Value\t            Infant mortality rate (per 1000 live births)\n",
    "Other columns\t    Various irrelevant dimensions (age groups, education etc.)\n",
    "\n",
    "Initial Observations:\n",
    "======================\n",
    "The dataset contained many non-numeric or irrelevant entries in Sex, Year, and other columns.\n",
    "The Value column, which represented the target variable, had some missing/null values.\n",
    "The Sex column contained unwanted categories like \"Unknown\", \"Total\", and others unrelated to gender.\n",
    "\n",
    "🧹 Data Cleaning Steps:\n",
    "============================\n",
    "Dropped Irrelevant Columns\n",
    "Columns unrelated to the analysis objective were removed (e.g., Age, Education, etc.).\n",
    "Dropped Missing or Invalid Value Entries\n",
    "All rows with missing values in the target variable (Value) were removed.\n",
    "Filtered Relevant Sex Categories\n",
    "Retained only rows where Sex is:\n",
    "'Male'\n",
    "'Female'\n",
    "'Both sexes'\n",
    "All other values like 'Unknown', 'Total', 'Q2', etc., were removed.\n",
    "Filtered Valid Years\n",
    "Retained rows where Year is a valid 4-digit number (e.g., 1970, 1985, etc.).\n",
    "Label Encoding\n",
    "Categorical Sex column was label encoded:"
   ]
  },
  {
   "cell_type": "code",
   "execution_count": 1,
   "id": "cbad2163",
   "metadata": {},
   "outputs": [],
   "source": [
    "import pandas as pd\n",
    "import numpy as np\n",
    "import matplotlib.pyplot as plt\n",
    "import seaborn as sns"
   ]
  },
  {
   "cell_type": "code",
   "execution_count": 2,
   "id": "f50c0598",
   "metadata": {},
   "outputs": [
    {
     "data": {
      "text/html": [
       "<div>\n",
       "<style scoped>\n",
       "    .dataframe tbody tr th:only-of-type {\n",
       "        vertical-align: middle;\n",
       "    }\n",
       "\n",
       "    .dataframe tbody tr th {\n",
       "        vertical-align: top;\n",
       "    }\n",
       "\n",
       "    .dataframe thead th {\n",
       "        text-align: right;\n",
       "    }\n",
       "</style>\n",
       "<table border=\"1\" class=\"dataframe\">\n",
       "  <thead>\n",
       "    <tr style=\"text-align: right;\">\n",
       "      <th></th>\n",
       "      <th>GHO (CODE)</th>\n",
       "      <th>GHO (DISPLAY)</th>\n",
       "      <th>GHO (URL)</th>\n",
       "      <th>YEAR (DISPLAY)</th>\n",
       "      <th>STARTYEAR</th>\n",
       "      <th>ENDYEAR</th>\n",
       "      <th>REGION (CODE)</th>\n",
       "      <th>REGION (DISPLAY)</th>\n",
       "      <th>COUNTRY (CODE)</th>\n",
       "      <th>COUNTRY (DISPLAY)</th>\n",
       "      <th>DIMENSION (TYPE)</th>\n",
       "      <th>DIMENSION (CODE)</th>\n",
       "      <th>DIMENSION (NAME)</th>\n",
       "      <th>Numeric</th>\n",
       "      <th>Value</th>\n",
       "      <th>Low</th>\n",
       "      <th>High</th>\n",
       "    </tr>\n",
       "  </thead>\n",
       "  <tbody>\n",
       "    <tr>\n",
       "      <th>0</th>\n",
       "      <td>#indicator+code</td>\n",
       "      <td>#indicator+name</td>\n",
       "      <td>#indicator+url</td>\n",
       "      <td>#date+year</td>\n",
       "      <td>#date+year+start</td>\n",
       "      <td>#date+year+end</td>\n",
       "      <td>#region+code</td>\n",
       "      <td>#region+name</td>\n",
       "      <td>#country+code</td>\n",
       "      <td>#country+name</td>\n",
       "      <td>#dimension+type</td>\n",
       "      <td>#dimension+code</td>\n",
       "      <td>#dimension+name</td>\n",
       "      <td>#indicator+value+num</td>\n",
       "      <td>#indicator+value</td>\n",
       "      <td>#indicator+value+low</td>\n",
       "      <td>#indicator+value+high</td>\n",
       "    </tr>\n",
       "    <tr>\n",
       "      <th>1</th>\n",
       "      <td>MDG_0000000001</td>\n",
       "      <td>Infant mortality rate (probability of dying be...</td>\n",
       "      <td>https://www.who.int/data/gho/data/indicators/i...</td>\n",
       "      <td>1978</td>\n",
       "      <td>1978</td>\n",
       "      <td>1978</td>\n",
       "      <td>EMR</td>\n",
       "      <td>Eastern Mediterranean</td>\n",
       "      <td>PAK</td>\n",
       "      <td>Pakistan</td>\n",
       "      <td>SEX</td>\n",
       "      <td>SEX_BTSX</td>\n",
       "      <td>Both sexes</td>\n",
       "      <td>128.629383203</td>\n",
       "      <td>128.6 [121.3-136.4]</td>\n",
       "      <td>121.298608474</td>\n",
       "      <td>136.43451409</td>\n",
       "    </tr>\n",
       "    <tr>\n",
       "      <th>2</th>\n",
       "      <td>CM_02</td>\n",
       "      <td>Number of infant deaths</td>\n",
       "      <td>https://www.who.int/data/gho/data/indicators/i...</td>\n",
       "      <td>1970</td>\n",
       "      <td>1970</td>\n",
       "      <td>1970</td>\n",
       "      <td>EMR</td>\n",
       "      <td>Eastern Mediterranean</td>\n",
       "      <td>PAK</td>\n",
       "      <td>Pakistan</td>\n",
       "      <td>SEX</td>\n",
       "      <td>SEX_FMLE</td>\n",
       "      <td>Female</td>\n",
       "      <td>162243.0</td>\n",
       "      <td>162 243 [150 180-175 188]</td>\n",
       "      <td>150180.0</td>\n",
       "      <td>175188.0</td>\n",
       "    </tr>\n",
       "    <tr>\n",
       "      <th>3</th>\n",
       "      <td>CM_02</td>\n",
       "      <td>Number of infant deaths</td>\n",
       "      <td>https://www.who.int/data/gho/data/indicators/i...</td>\n",
       "      <td>1968</td>\n",
       "      <td>1968</td>\n",
       "      <td>1968</td>\n",
       "      <td>EMR</td>\n",
       "      <td>Eastern Mediterranean</td>\n",
       "      <td>PAK</td>\n",
       "      <td>Pakistan</td>\n",
       "      <td>SEX</td>\n",
       "      <td>SEX_BTSX</td>\n",
       "      <td>Both sexes</td>\n",
       "      <td>341398.0</td>\n",
       "      <td>341 398 [316 125-367 516]</td>\n",
       "      <td>316125.0</td>\n",
       "      <td>367516.0</td>\n",
       "    </tr>\n",
       "    <tr>\n",
       "      <th>4</th>\n",
       "      <td>CM_01</td>\n",
       "      <td>Number of under-five deaths</td>\n",
       "      <td>https://www.who.int/data/gho/data/indicators/i...</td>\n",
       "      <td>1994</td>\n",
       "      <td>1994</td>\n",
       "      <td>1994</td>\n",
       "      <td>EMR</td>\n",
       "      <td>Eastern Mediterranean</td>\n",
       "      <td>PAK</td>\n",
       "      <td>Pakistan</td>\n",
       "      <td>SEX</td>\n",
       "      <td>SEX_BTSX</td>\n",
       "      <td>Both sexes</td>\n",
       "      <td>159104.0</td>\n",
       "      <td>159 104 [142 595-177 120]</td>\n",
       "      <td>142595.0</td>\n",
       "      <td>177120.0</td>\n",
       "    </tr>\n",
       "  </tbody>\n",
       "</table>\n",
       "</div>"
      ],
      "text/plain": [
       "        GHO (CODE)                                      GHO (DISPLAY)  \\\n",
       "0  #indicator+code                                    #indicator+name   \n",
       "1   MDG_0000000001  Infant mortality rate (probability of dying be...   \n",
       "2            CM_02                            Number of infant deaths   \n",
       "3            CM_02                            Number of infant deaths   \n",
       "4            CM_01                        Number of under-five deaths   \n",
       "\n",
       "                                           GHO (URL) YEAR (DISPLAY)  \\\n",
       "0                                     #indicator+url     #date+year   \n",
       "1  https://www.who.int/data/gho/data/indicators/i...           1978   \n",
       "2  https://www.who.int/data/gho/data/indicators/i...           1970   \n",
       "3  https://www.who.int/data/gho/data/indicators/i...           1968   \n",
       "4  https://www.who.int/data/gho/data/indicators/i...           1994   \n",
       "\n",
       "          STARTYEAR         ENDYEAR REGION (CODE)       REGION (DISPLAY)  \\\n",
       "0  #date+year+start  #date+year+end  #region+code           #region+name   \n",
       "1              1978            1978           EMR  Eastern Mediterranean   \n",
       "2              1970            1970           EMR  Eastern Mediterranean   \n",
       "3              1968            1968           EMR  Eastern Mediterranean   \n",
       "4              1994            1994           EMR  Eastern Mediterranean   \n",
       "\n",
       "  COUNTRY (CODE) COUNTRY (DISPLAY) DIMENSION (TYPE) DIMENSION (CODE)  \\\n",
       "0  #country+code     #country+name  #dimension+type  #dimension+code   \n",
       "1            PAK          Pakistan              SEX         SEX_BTSX   \n",
       "2            PAK          Pakistan              SEX         SEX_FMLE   \n",
       "3            PAK          Pakistan              SEX         SEX_BTSX   \n",
       "4            PAK          Pakistan              SEX         SEX_BTSX   \n",
       "\n",
       "  DIMENSION (NAME)               Numeric                      Value  \\\n",
       "0  #dimension+name  #indicator+value+num           #indicator+value   \n",
       "1       Both sexes         128.629383203        128.6 [121.3-136.4]   \n",
       "2           Female              162243.0  162 243 [150 180-175 188]   \n",
       "3       Both sexes              341398.0  341 398 [316 125-367 516]   \n",
       "4       Both sexes              159104.0  159 104 [142 595-177 120]   \n",
       "\n",
       "                    Low                   High  \n",
       "0  #indicator+value+low  #indicator+value+high  \n",
       "1         121.298608474           136.43451409  \n",
       "2              150180.0               175188.0  \n",
       "3              316125.0               367516.0  \n",
       "4              142595.0               177120.0  "
      ]
     },
     "execution_count": 2,
     "metadata": {},
     "output_type": "execute_result"
    }
   ],
   "source": [
    "# Import the necessary widget for file upload\n",
    "# Prompt the user to upload a file\n",
    "data = \"F:\\\\Internships_Works\\\\health_indicators_pak.csv\"  # Replace with the actual file path or use a file upload widget in a notebook environment\n",
    "\n",
    "# Read the uploaded file into a pandas DataFrame\n",
    "# ( the uploaded file is a CSV)\n",
    "data = pd.read_csv(data)\n",
    "# Display the first few rows of the DataFrame\n",
    "data.head()"
   ]
  },
  {
   "cell_type": "code",
   "execution_count": 3,
   "id": "9bd31a57",
   "metadata": {},
   "outputs": [
    {
     "name": "stdout",
     "output_type": "stream",
     "text": [
      "=== Dataset Info ===\n",
      "<class 'pandas.core.frame.DataFrame'>\n",
      "RangeIndex: 22418 entries, 0 to 22417\n",
      "Data columns (total 17 columns):\n",
      " #   Column             Non-Null Count  Dtype \n",
      "---  ------             --------------  ----- \n",
      " 0   GHO (CODE)         22418 non-null  object\n",
      " 1   GHO (DISPLAY)      22418 non-null  object\n",
      " 2   GHO (URL)          22418 non-null  object\n",
      " 3   YEAR (DISPLAY)     22418 non-null  object\n",
      " 4   STARTYEAR          22418 non-null  object\n",
      " 5   ENDYEAR            22418 non-null  object\n",
      " 6   REGION (CODE)      22418 non-null  object\n",
      " 7   REGION (DISPLAY)   22418 non-null  object\n",
      " 8   COUNTRY (CODE)     22418 non-null  object\n",
      " 9   COUNTRY (DISPLAY)  22418 non-null  object\n",
      " 10  DIMENSION (TYPE)   19009 non-null  object\n",
      " 11  DIMENSION (CODE)   19009 non-null  object\n",
      " 12  DIMENSION (NAME)   18965 non-null  object\n",
      " 13  Numeric            20226 non-null  object\n",
      " 14  Value              22349 non-null  object\n",
      " 15  Low                14441 non-null  object\n",
      " 16  High               14441 non-null  object\n",
      "dtypes: object(17)\n",
      "memory usage: 2.9+ MB\n",
      "None\n",
      "\n",
      "=== First 5 Rows ===\n",
      "        GHO (CODE)                                      GHO (DISPLAY)  \\\n",
      "0  #indicator+code                                    #indicator+name   \n",
      "1   MDG_0000000001  Infant mortality rate (probability of dying be...   \n",
      "2            CM_02                            Number of infant deaths   \n",
      "3            CM_02                            Number of infant deaths   \n",
      "4            CM_01                        Number of under-five deaths   \n",
      "\n",
      "                                           GHO (URL) YEAR (DISPLAY)  \\\n",
      "0                                     #indicator+url     #date+year   \n",
      "1  https://www.who.int/data/gho/data/indicators/i...           1978   \n",
      "2  https://www.who.int/data/gho/data/indicators/i...           1970   \n",
      "3  https://www.who.int/data/gho/data/indicators/i...           1968   \n",
      "4  https://www.who.int/data/gho/data/indicators/i...           1994   \n",
      "\n",
      "          STARTYEAR         ENDYEAR REGION (CODE)       REGION (DISPLAY)  \\\n",
      "0  #date+year+start  #date+year+end  #region+code           #region+name   \n",
      "1              1978            1978           EMR  Eastern Mediterranean   \n",
      "2              1970            1970           EMR  Eastern Mediterranean   \n",
      "3              1968            1968           EMR  Eastern Mediterranean   \n",
      "4              1994            1994           EMR  Eastern Mediterranean   \n",
      "\n",
      "  COUNTRY (CODE) COUNTRY (DISPLAY) DIMENSION (TYPE) DIMENSION (CODE)  \\\n",
      "0  #country+code     #country+name  #dimension+type  #dimension+code   \n",
      "1            PAK          Pakistan              SEX         SEX_BTSX   \n",
      "2            PAK          Pakistan              SEX         SEX_FMLE   \n",
      "3            PAK          Pakistan              SEX         SEX_BTSX   \n",
      "4            PAK          Pakistan              SEX         SEX_BTSX   \n",
      "\n",
      "  DIMENSION (NAME)               Numeric                      Value  \\\n",
      "0  #dimension+name  #indicator+value+num           #indicator+value   \n",
      "1       Both sexes         128.629383203        128.6 [121.3-136.4]   \n",
      "2           Female              162243.0  162 243 [150 180-175 188]   \n",
      "3       Both sexes              341398.0  341 398 [316 125-367 516]   \n",
      "4       Both sexes              159104.0  159 104 [142 595-177 120]   \n",
      "\n",
      "                    Low                   High  \n",
      "0  #indicator+value+low  #indicator+value+high  \n",
      "1         121.298608474           136.43451409  \n",
      "2              150180.0               175188.0  \n",
      "3              316125.0               367516.0  \n",
      "4              142595.0               177120.0  \n"
     ]
    }
   ],
   "source": [
    "# Display basic info\n",
    "print(\"=== Dataset Info ===\")\n",
    "print(data.info())\n",
    "print(\"\\n=== First 5 Rows ===\")\n",
    "print(data.head())"
   ]
  },
  {
   "cell_type": "code",
   "execution_count": 4,
   "id": "3b767f6c",
   "metadata": {},
   "outputs": [
    {
     "name": "stdout",
     "output_type": "stream",
     "text": [
      "\n",
      "=== Null Values ===\n",
      "GHO (CODE)              0\n",
      "GHO (DISPLAY)           0\n",
      "GHO (URL)               0\n",
      "YEAR (DISPLAY)          0\n",
      "STARTYEAR               0\n",
      "ENDYEAR                 0\n",
      "REGION (CODE)           0\n",
      "REGION (DISPLAY)        0\n",
      "COUNTRY (CODE)          0\n",
      "COUNTRY (DISPLAY)       0\n",
      "DIMENSION (TYPE)     3409\n",
      "DIMENSION (CODE)     3409\n",
      "DIMENSION (NAME)     3453\n",
      "Numeric              2192\n",
      "Value                  69\n",
      "Low                  7977\n",
      "High                 7977\n",
      "dtype: int64\n"
     ]
    }
   ],
   "source": [
    "# Check for null/missing values\n",
    "print(\"\\n=== Null Values ===\")\n",
    "print(data.isnull().sum())"
   ]
  },
  {
   "cell_type": "markdown",
   "id": "f56dd3d7",
   "metadata": {},
   "source": [
    "\"Keeping those rows would have caused errors or incorrect results in graphs and summaries, so it's a standard data cleaning step.\"\n",
    "We dropped rows where 'Value' or 'Numeric' was missing because these columns contain the main numerical data we are analyzing. If these values are missing, the row can't be used for any meaningfu analysis, visualization, or modeling — so we removed them to ensure data quality.\n"
   ]
  },
  {
   "cell_type": "code",
   "execution_count": 5,
   "id": "898a886f",
   "metadata": {},
   "outputs": [],
   "source": [
    "#Drop rows where 'Value' or 'Numeric' is missing\n",
    "data.dropna(subset=['Value', 'Numeric'], inplace=True)\n"
   ]
  },
  {
   "cell_type": "markdown",
   "id": "62f79490",
   "metadata": {},
   "source": [
    "\"These dimension columns provide extra information like gender or age group. When this information is missing, instead of dropping the row — which might still have important data — we fill it with 'Unknown'. This way, we preserve the useful data while clearly marking that some dimension info is not available.\"\n",
    "If we drop these rows, we could lose valid data points just because a small piece of extra info was missing. So, to avoid losing valuable data, we fill the missing dimension values with a neutral label 'Unknown'.\""
   ]
  },
  {
   "cell_type": "code",
   "execution_count": 6,
   "id": "346b44e3",
   "metadata": {},
   "outputs": [],
   "source": [
    "# Fill nulls in dimension columns with 'Unknown' (optional)\n",
    "data['DIMENSION (TYPE)'] = data['DIMENSION (TYPE)'].fillna('Unknown')\n",
    "data['DIMENSION (CODE)'] = data['DIMENSION (CODE)'].fillna('Unknown')\n",
    "data['DIMENSION (NAME)'] = data['DIMENSION (NAME)'].fillna('Unknown')"
   ]
  },
  {
   "cell_type": "markdown",
   "id": "d87d96e9",
   "metadata": {},
   "source": [
    "most of the values in 'Low' and 'High' were missing (about 8000 nulls), so they were not useful for basic analysis and only added noise.\"\n",
    "\"The 'Low' and 'High' columns represent the confidence interval range for the main value. Since we are not analyzing statistical uncertainty or doing advanced modeling, these columns are not needed. So, we dropped them to simplify the dataset and reduce unnecessary columns."
   ]
  },
  {
   "cell_type": "code",
   "execution_count": 7,
   "id": "1272e972",
   "metadata": {},
   "outputs": [],
   "source": [
    "# Drop 'Low' and 'High' columns if not needed\n",
    "data.drop(columns=['Low', 'High'], inplace=True)"
   ]
  },
  {
   "cell_type": "code",
   "execution_count": 8,
   "id": "7ab6e391",
   "metadata": {},
   "outputs": [],
   "source": [
    "# Reset index after dropping\n",
    "data.reset_index(drop=True, inplace=True)"
   ]
  },
  {
   "cell_type": "code",
   "execution_count": 9,
   "id": "24aa6918",
   "metadata": {},
   "outputs": [
    {
     "name": "stdout",
     "output_type": "stream",
     "text": [
      "\n",
      "=== After Cleaning Nulls ===\n",
      "GHO (CODE)           0\n",
      "GHO (DISPLAY)        0\n",
      "GHO (URL)            0\n",
      "YEAR (DISPLAY)       0\n",
      "STARTYEAR            0\n",
      "ENDYEAR              0\n",
      "REGION (CODE)        0\n",
      "REGION (DISPLAY)     0\n",
      "COUNTRY (CODE)       0\n",
      "COUNTRY (DISPLAY)    0\n",
      "DIMENSION (TYPE)     0\n",
      "DIMENSION (CODE)     0\n",
      "DIMENSION (NAME)     0\n",
      "Numeric              0\n",
      "Value                0\n",
      "dtype: int64\n",
      "\n",
      "Cleaned Data Sample:\n"
     ]
    },
    {
     "data": {
      "text/html": [
       "<div>\n",
       "<style scoped>\n",
       "    .dataframe tbody tr th:only-of-type {\n",
       "        vertical-align: middle;\n",
       "    }\n",
       "\n",
       "    .dataframe tbody tr th {\n",
       "        vertical-align: top;\n",
       "    }\n",
       "\n",
       "    .dataframe thead th {\n",
       "        text-align: right;\n",
       "    }\n",
       "</style>\n",
       "<table border=\"1\" class=\"dataframe\">\n",
       "  <thead>\n",
       "    <tr style=\"text-align: right;\">\n",
       "      <th></th>\n",
       "      <th>GHO (CODE)</th>\n",
       "      <th>GHO (DISPLAY)</th>\n",
       "      <th>GHO (URL)</th>\n",
       "      <th>YEAR (DISPLAY)</th>\n",
       "      <th>STARTYEAR</th>\n",
       "      <th>ENDYEAR</th>\n",
       "      <th>REGION (CODE)</th>\n",
       "      <th>REGION (DISPLAY)</th>\n",
       "      <th>COUNTRY (CODE)</th>\n",
       "      <th>COUNTRY (DISPLAY)</th>\n",
       "      <th>DIMENSION (TYPE)</th>\n",
       "      <th>DIMENSION (CODE)</th>\n",
       "      <th>DIMENSION (NAME)</th>\n",
       "      <th>Numeric</th>\n",
       "      <th>Value</th>\n",
       "    </tr>\n",
       "  </thead>\n",
       "  <tbody>\n",
       "    <tr>\n",
       "      <th>0</th>\n",
       "      <td>#indicator+code</td>\n",
       "      <td>#indicator+name</td>\n",
       "      <td>#indicator+url</td>\n",
       "      <td>#date+year</td>\n",
       "      <td>#date+year+start</td>\n",
       "      <td>#date+year+end</td>\n",
       "      <td>#region+code</td>\n",
       "      <td>#region+name</td>\n",
       "      <td>#country+code</td>\n",
       "      <td>#country+name</td>\n",
       "      <td>#dimension+type</td>\n",
       "      <td>#dimension+code</td>\n",
       "      <td>#dimension+name</td>\n",
       "      <td>#indicator+value+num</td>\n",
       "      <td>#indicator+value</td>\n",
       "    </tr>\n",
       "    <tr>\n",
       "      <th>1</th>\n",
       "      <td>MDG_0000000001</td>\n",
       "      <td>Infant mortality rate (probability of dying be...</td>\n",
       "      <td>https://www.who.int/data/gho/data/indicators/i...</td>\n",
       "      <td>1978</td>\n",
       "      <td>1978</td>\n",
       "      <td>1978</td>\n",
       "      <td>EMR</td>\n",
       "      <td>Eastern Mediterranean</td>\n",
       "      <td>PAK</td>\n",
       "      <td>Pakistan</td>\n",
       "      <td>SEX</td>\n",
       "      <td>SEX_BTSX</td>\n",
       "      <td>Both sexes</td>\n",
       "      <td>128.629383203</td>\n",
       "      <td>128.6 [121.3-136.4]</td>\n",
       "    </tr>\n",
       "    <tr>\n",
       "      <th>2</th>\n",
       "      <td>CM_02</td>\n",
       "      <td>Number of infant deaths</td>\n",
       "      <td>https://www.who.int/data/gho/data/indicators/i...</td>\n",
       "      <td>1970</td>\n",
       "      <td>1970</td>\n",
       "      <td>1970</td>\n",
       "      <td>EMR</td>\n",
       "      <td>Eastern Mediterranean</td>\n",
       "      <td>PAK</td>\n",
       "      <td>Pakistan</td>\n",
       "      <td>SEX</td>\n",
       "      <td>SEX_FMLE</td>\n",
       "      <td>Female</td>\n",
       "      <td>162243.0</td>\n",
       "      <td>162 243 [150 180-175 188]</td>\n",
       "    </tr>\n",
       "    <tr>\n",
       "      <th>3</th>\n",
       "      <td>CM_02</td>\n",
       "      <td>Number of infant deaths</td>\n",
       "      <td>https://www.who.int/data/gho/data/indicators/i...</td>\n",
       "      <td>1968</td>\n",
       "      <td>1968</td>\n",
       "      <td>1968</td>\n",
       "      <td>EMR</td>\n",
       "      <td>Eastern Mediterranean</td>\n",
       "      <td>PAK</td>\n",
       "      <td>Pakistan</td>\n",
       "      <td>SEX</td>\n",
       "      <td>SEX_BTSX</td>\n",
       "      <td>Both sexes</td>\n",
       "      <td>341398.0</td>\n",
       "      <td>341 398 [316 125-367 516]</td>\n",
       "    </tr>\n",
       "    <tr>\n",
       "      <th>4</th>\n",
       "      <td>CM_01</td>\n",
       "      <td>Number of under-five deaths</td>\n",
       "      <td>https://www.who.int/data/gho/data/indicators/i...</td>\n",
       "      <td>1994</td>\n",
       "      <td>1994</td>\n",
       "      <td>1994</td>\n",
       "      <td>EMR</td>\n",
       "      <td>Eastern Mediterranean</td>\n",
       "      <td>PAK</td>\n",
       "      <td>Pakistan</td>\n",
       "      <td>SEX</td>\n",
       "      <td>SEX_BTSX</td>\n",
       "      <td>Both sexes</td>\n",
       "      <td>159104.0</td>\n",
       "      <td>159 104 [142 595-177 120]</td>\n",
       "    </tr>\n",
       "  </tbody>\n",
       "</table>\n",
       "</div>"
      ],
      "text/plain": [
       "        GHO (CODE)                                      GHO (DISPLAY)  \\\n",
       "0  #indicator+code                                    #indicator+name   \n",
       "1   MDG_0000000001  Infant mortality rate (probability of dying be...   \n",
       "2            CM_02                            Number of infant deaths   \n",
       "3            CM_02                            Number of infant deaths   \n",
       "4            CM_01                        Number of under-five deaths   \n",
       "\n",
       "                                           GHO (URL) YEAR (DISPLAY)  \\\n",
       "0                                     #indicator+url     #date+year   \n",
       "1  https://www.who.int/data/gho/data/indicators/i...           1978   \n",
       "2  https://www.who.int/data/gho/data/indicators/i...           1970   \n",
       "3  https://www.who.int/data/gho/data/indicators/i...           1968   \n",
       "4  https://www.who.int/data/gho/data/indicators/i...           1994   \n",
       "\n",
       "          STARTYEAR         ENDYEAR REGION (CODE)       REGION (DISPLAY)  \\\n",
       "0  #date+year+start  #date+year+end  #region+code           #region+name   \n",
       "1              1978            1978           EMR  Eastern Mediterranean   \n",
       "2              1970            1970           EMR  Eastern Mediterranean   \n",
       "3              1968            1968           EMR  Eastern Mediterranean   \n",
       "4              1994            1994           EMR  Eastern Mediterranean   \n",
       "\n",
       "  COUNTRY (CODE) COUNTRY (DISPLAY) DIMENSION (TYPE) DIMENSION (CODE)  \\\n",
       "0  #country+code     #country+name  #dimension+type  #dimension+code   \n",
       "1            PAK          Pakistan              SEX         SEX_BTSX   \n",
       "2            PAK          Pakistan              SEX         SEX_FMLE   \n",
       "3            PAK          Pakistan              SEX         SEX_BTSX   \n",
       "4            PAK          Pakistan              SEX         SEX_BTSX   \n",
       "\n",
       "  DIMENSION (NAME)               Numeric                      Value  \n",
       "0  #dimension+name  #indicator+value+num           #indicator+value  \n",
       "1       Both sexes         128.629383203        128.6 [121.3-136.4]  \n",
       "2           Female              162243.0  162 243 [150 180-175 188]  \n",
       "3       Both sexes              341398.0  341 398 [316 125-367 516]  \n",
       "4       Both sexes              159104.0  159 104 [142 595-177 120]  "
      ]
     },
     "execution_count": 9,
     "metadata": {},
     "output_type": "execute_result"
    }
   ],
   "source": [
    "# Final check\n",
    "print(\"\\n=== After Cleaning Nulls ===\")\n",
    "print(data.isnull().sum())\n",
    "print(\"\\nCleaned Data Sample:\")\n",
    "data.head()"
   ]
  },
  {
   "cell_type": "markdown",
   "id": "72650380",
   "metadata": {},
   "source": [
    "| Column Name                          | Kya karein? | Reason                                                                                                                                             |\n",
    "| ------------------------------------ | ----------- | -------------------------------------------------------------------------------------------------------------------------------------------------- |\n",
    "| `GHO (CODE)`                         | ❌ **Drop**  | Yeh WHO internal code hota hai, analysis mein kaam ka nahi.                                                                                        |\n",
    "| `GHO (DISPLAY)`                      | ❌ **Drop**  | Har row mein same value hoti hai: “Infant mortality rate (probability of dying between birth and age 1 per 1000 live births)”. Duplicate info hai. |\n",
    "| `GHO (URL)`                          | ❌ **Drop**  | Sirf reference link hai, model ya graph mein use nahi hota.                                                                                        |\n",
    "| `STARTYEAR` / `ENDYEAR`              | ❌ **Drop**  | Ye bhi `YEAR (DISPLAY)` ka duplicate type hain. Har row ka start-end same year hoga.                                                               |\n",
    "| `REGION (CODE)` / `REGION (DISPLAY)` | ❌ **Drop**  | Har row mein same region hai: “Eastern Mediterranean” (Pakistan ka WHO region). No variation.                                                      |\n",
    "| `COUNTRY (CODE)`                     | ❌ **Drop**  | Har row mein same code hoga (PAK), already have `COUNTRY (DISPLAY)`                                                                                |\n",
    "| `COUNTRY (DISPLAY)`                  | ⚠️ Optional | Agar multiple countries hote to useful hota. Lekin agar sirf Pakistan hai to drop kar sakte ho.                                                    |\n",
    "| `DIMENSION (TYPE)`                   | ❌ **Drop**  | Iska value mostly same hoga e.g., “Sex”, already included in `DIMENSION (NAME)`                                                                    |\n",
    "| `DIMENSION (CODE)`                   | ❌ **Drop**  | Gender ka code hai (e.g. `SEX_BTSX`), but `DIMENSION (NAME)` is human-readable. Better for charts.                                                 |\n",
    "| `Value`                              | ❌ **Drop**  | Duplicate of `Numeric`, ya string version. Tum already `Numeric` use kar rahe ho for analysis.                                                     |\n"
   ]
  },
  {
   "cell_type": "code",
   "execution_count": 10,
   "id": "9f2cf851",
   "metadata": {},
   "outputs": [
    {
     "data": {
      "text/plain": [
       "Index(['GHO (CODE)', 'GHO (DISPLAY)', 'GHO (URL)', 'Year', 'STARTYEAR',\n",
       "       'ENDYEAR', 'REGION (CODE)', 'REGION (DISPLAY)', 'COUNTRY (CODE)',\n",
       "       'COUNTRY (DISPLAY)', 'DIMENSION (TYPE)', 'DIMENSION (CODE)', 'Sex',\n",
       "       'Infant_Mortality', 'Value'],\n",
       "      dtype='object')"
      ]
     },
     "execution_count": 10,
     "metadata": {},
     "output_type": "execute_result"
    }
   ],
   "source": [
    "# Rename columns for clarity\n",
    "# (optional) Rename columns to more user-friendly names\n",
    "data.rename(columns={\n",
    "    'YEAR (DISPLAY)': 'Year',\n",
    "    'DIMENSION (NAME)': 'Sex',\n",
    "    'Numeric': 'Infant_Mortality'\n",
    "}, inplace=True)\n",
    "data.columns  # Display updated column names"
   ]
  },
  {
   "cell_type": "code",
   "execution_count": 15,
   "id": "23e617ae",
   "metadata": {},
   "outputs": [
    {
     "name": "stdout",
     "output_type": "stream",
     "text": [
      "         Year              Sex      Infant_Mortality\n",
      "0  #date+year  #dimension+name  #indicator+value+num\n",
      "1        1978       Both sexes         128.629383203\n",
      "2        1970           Female              162243.0\n",
      "3        1968       Both sexes              341398.0\n",
      "4        1994       Both sexes              159104.0\n"
     ]
    }
   ],
   "source": [
    "# Keep only relevant columns\n",
    "data = data[['Year', 'Sex', 'Infant_Mortality']]\n",
    "\n",
    "# Display the cleaned dataset\n",
    "print(data.head())\n",
    "\n",
    "# Encode 'Sex' (Male=0, Female=1)\n",
    "data['Sex'] = data['Sex'].map({'Male': 0, 'Female': 1, 'Both sexes': 2})\n"
   ]
  },
  {
   "cell_type": "code",
   "execution_count": 23,
   "id": "0b0bb9d9",
   "metadata": {},
   "outputs": [
    {
     "name": "stdout",
     "output_type": "stream",
     "text": [
      "0\n"
     ]
    }
   ],
   "source": [
    "# Dependent variable\n",
    "y = data['Infant_Mortality']\n",
    "\n",
    "# Independent variables\n",
    "x = data[['Year', 'Sex']]\n",
    "\n",
    "\n",
    "print(y.isnull().sum())"
   ]
  },
  {
   "cell_type": "code",
   "execution_count": 25,
   "id": "0adf9f83",
   "metadata": {},
   "outputs": [],
   "source": [
    "x = x.dropna()\n",
    "y = y.loc[x.index]  # Keep target aligned"
   ]
  },
  {
   "cell_type": "code",
   "execution_count": 26,
   "id": "21e523aa",
   "metadata": {},
   "outputs": [],
   "source": [
    "x = x.fillna(x.mean(numeric_only=True))"
   ]
  },
  {
   "cell_type": "code",
   "execution_count": 27,
   "id": "90e2ff3e",
   "metadata": {},
   "outputs": [
    {
     "name": "stdout",
     "output_type": "stream",
     "text": [
      "Year    0\n",
      "Sex     0\n",
      "dtype: int64\n"
     ]
    }
   ],
   "source": [
    "print(x.isnull().sum())"
   ]
  },
  {
   "cell_type": "code",
   "execution_count": 28,
   "id": "da123bd3",
   "metadata": {},
   "outputs": [],
   "source": [
    "from sklearn.model_selection import train_test_split\n",
    "from sklearn.linear_model import LinearRegression\n",
    "from sklearn.metrics import mean_squared_error, r2_score\n",
    "import pandas as pd\n",
    "\n",
    "# Train-test split\n",
    "x_train, x_test, y_train, y_test = train_test_split(x, y, test_size=0.2, random_state=42)"
   ]
  },
  {
   "cell_type": "code",
   "execution_count": 32,
   "id": "820662f8",
   "metadata": {},
   "outputs": [],
   "source": [
    "from sklearn.ensemble import RandomForestRegressor\n",
    "from sklearn.metrics import mean_squared_error, r2_score\n",
    "# Train Random Forest model\n",
    "model = RandomForestRegressor(n_estimators=100, random_state=42)\n",
    "model.fit(x_train, y_train)\n",
    "\n",
    "# Predict\n",
    "y_pred = model.predict(x_test)\n"
   ]
  },
  {
   "cell_type": "code",
   "execution_count": 34,
   "id": "6564c21b",
   "metadata": {},
   "outputs": [
    {
     "name": "stdout",
     "output_type": "stream",
     "text": [
      "MSE: 269841502701.63858\n",
      "R² Score: 0.01481736590056315\n"
     ]
    }
   ],
   "source": [
    "# Evaluate\n",
    "print(\"MSE:\", mean_squared_error(y_test, y_pred))\n",
    "print(\"R² Score:\", r2_score(y_test, y_pred))"
   ]
  },
  {
   "cell_type": "code",
   "execution_count": 35,
   "id": "d69aa3ea",
   "metadata": {},
   "outputs": [
    {
     "ename": "ModuleNotFoundError",
     "evalue": "No module named 'xgboost'",
     "output_type": "error",
     "traceback": [
      "\u001b[1;31m---------------------------------------------------------------------------\u001b[0m",
      "\u001b[1;31mModuleNotFoundError\u001b[0m                       Traceback (most recent call last)",
      "Cell \u001b[1;32mIn[35], line 1\u001b[0m\n\u001b[1;32m----> 1\u001b[0m \u001b[38;5;28;01mimport\u001b[39;00m\u001b[38;5;250m \u001b[39m\u001b[38;5;21;01mxgboost\u001b[39;00m\u001b[38;5;250m \u001b[39m\u001b[38;5;28;01mas\u001b[39;00m\u001b[38;5;250m \u001b[39m\u001b[38;5;21;01mxgb\u001b[39;00m\n\u001b[0;32m      2\u001b[0m \u001b[38;5;66;03m# 6. XGBoost Model banayein aur train karein\u001b[39;00m\n\u001b[0;32m      3\u001b[0m model \u001b[38;5;241m=\u001b[39m xgb\u001b[38;5;241m.\u001b[39mXGBRegressor(\n\u001b[0;32m      4\u001b[0m     objective\u001b[38;5;241m=\u001b[39m\u001b[38;5;124m'\u001b[39m\u001b[38;5;124mreg:squarederror\u001b[39m\u001b[38;5;124m'\u001b[39m,  \u001b[38;5;66;03m# Regression ke liye\u001b[39;00m\n\u001b[0;32m      5\u001b[0m     n_estimators\u001b[38;5;241m=\u001b[39m\u001b[38;5;241m100\u001b[39m,              \u001b[38;5;66;03m# Darakhto ki tadad\u001b[39;00m\n\u001b[1;32m   (...)\u001b[0m\n\u001b[0;32m      8\u001b[0m     random_state\u001b[38;5;241m=\u001b[39m\u001b[38;5;241m42\u001b[39m\n\u001b[0;32m      9\u001b[0m )\n",
      "\u001b[1;31mModuleNotFoundError\u001b[0m: No module named 'xgboost'"
     ]
    }
   ],
   "source": [
    "import xgboost as xgb\n",
    "# 6. XGBoost Model banayein aur train karein\n",
    "model = xgb.XGBRegressor(\n",
    "    objective='reg:squarederror',  # Regression ke liye\n",
    "    n_estimators=100,              # Darakhto ki tadad\n",
    "    learning_rate=0.1,             # Seekhne ki raftaar\n",
    "    max_depth=3,                   # Darakht ki gehrai\n",
    "    random_state=42\n",
    ")\n",
    "model.fit(x_train, y_train)"
   ]
  },
  {
   "cell_type": "code",
   "execution_count": 33,
   "id": "2ff5c877",
   "metadata": {},
   "outputs": [
    {
     "name": "stdout",
     "output_type": "stream",
     "text": [
      "MSE: 269841502701.63858\n",
      "R² Score: 0.01481736590056315\n"
     ]
    }
   ],
   "source": [
    "# Evaluate\n",
    "print(\"MSE:\", mean_squared_error(y_test, y_pred))\n",
    "print(\"R² Score:\", r2_score(y_test, y_pred))"
   ]
  }
 ],
 "metadata": {
  "kernelspec": {
   "display_name": "Python 3",
   "language": "python",
   "name": "python3"
  },
  "language_info": {
   "codemirror_mode": {
    "name": "ipython",
    "version": 3
   },
   "file_extension": ".py",
   "mimetype": "text/x-python",
   "name": "python",
   "nbconvert_exporter": "python",
   "pygments_lexer": "ipython3",
   "version": "3.10.16"
  }
 },
 "nbformat": 4,
 "nbformat_minor": 5
}
